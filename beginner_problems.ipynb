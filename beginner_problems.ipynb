{
 "metadata": {
  "language_info": {
   "codemirror_mode": {
    "name": "ipython",
    "version": 3
   },
   "file_extension": ".py",
   "mimetype": "text/x-python",
   "name": "python",
   "nbconvert_exporter": "python",
   "pygments_lexer": "ipython3",
   "version": "3.7.1-final"
  },
  "orig_nbformat": 2,
  "kernelspec": {
   "name": "python_defaultSpec_1612906050942",
   "display_name": "Python 3.7.1 64-bit ('anaconda3': virtualenv)"
  }
 },
 "nbformat": 4,
 "nbformat_minor": 2,
 "cells": [
  {
   "cell_type": "markdown",
   "metadata": {},
   "source": [
    "## Level 1 - Beginner"
   ]
  },
  {
   "cell_type": "markdown",
   "metadata": {},
   "source": [
    "### Question 1\n",
    "---\n",
    "\n",
    "**Question:** _Write a program which will find all such numbers which are divisible by 7 but are not a multiple of 5, between 2000 and 3200 (both included).The numbers obtained should be printed in a comma-separated sequence on a single line._\n",
    "\n",
    "**Hints:** _Consider use range(#begin, #end) method._\n",
    "\n",
    "**Solution:**"
   ]
  },
  {
   "cell_type": "code",
   "execution_count": 4,
   "metadata": {
    "tags": []
   },
   "outputs": [
    {
     "output_type": "stream",
     "name": "stdout",
     "text": "2002,2009,2016,2023,2037,2044,2051,2058,2072,2079,2086,2093,2107,2114,2121,2128,2142,2149,2156,2163,2177,2184,2191,2198,2212,2219,2226,2233,2247,2254,2261,2268,2282,2289,2296,2303,2317,2324,2331,2338,2352,2359,2366,2373,2387,2394,2401,2408,2422,2429,2436,2443,2457,2464,2471,2478,2492,2499,2506,2513,2527,2534,2541,2548,2562,2569,2576,2583,2597,2604,2611,2618,2632,2639,2646,2653,2667,2674,2681,2688,2702,2709,2716,2723,2737,2744,2751,2758,2772,2779,2786,2793,2807,2814,2821,2828,2842,2849,2856,2863,2877,2884,2891,2898,2912,2919,2926,2933,2947,2954,2961,2968,2982,2989,2996,3003,3017,3024,3031,3038,3052,3059,3066,3073,3087,3094,3101,3108,3122,3129,3136,3143,3157,3164,3171,3178,3192,3199\n"
    }
   ],
   "source": [
    "#using for loop\n",
    "for i in range(2000,3201):\n",
    "    if i%7 == 0 and i%5 != 0:\n",
    "        print(i, end=',')   \n",
    "print(\"\\b\")"
   ]
  },
  {
   "cell_type": "code",
   "execution_count": 3,
   "metadata": {
    "tags": []
   },
   "outputs": [
    {
     "output_type": "stream",
     "name": "stdout",
     "text": "2002,2009,2016,2023,2037,2044,2051,2058,2072,2079,2086,2093,2107,2114,2121,2128,2142,2149,2156,2163,2177,2184,2191,2198,2212,2219,2226,2233,2247,2254,2261,2268,2282,2289,2296,2303,2317,2324,2331,2338,2352,2359,2366,2373,2387,2394,2401,2408,2422,2429,2436,2443,2457,2464,2471,2478,2492,2499,2506,2513,2527,2534,2541,2548,2562,2569,2576,2583,2597,2604,2611,2618,2632,2639,2646,2653,2667,2674,2681,2688,2702,2709,2716,2723,2737,2744,2751,2758,2772,2779,2786,2793,2807,2814,2821,2828,2842,2849,2856,2863,2877,2884,2891,2898,2912,2919,2926,2933,2947,2954,2961,2968,2982,2989,2996,3003,3017,3024,3031,3038,3052,3059,3066,3073,3087,3094,3101,3108,3122,3129,3136,3143,3157,3164,3171,3178,3192,3199\n"
    }
   ],
   "source": [
    "#using generators \n",
    "print(*(i for i in range(2000, 3201) if i%7 == 0 and i%5 != 0), sep=',')"
   ]
  },
  {
   "cell_type": "markdown",
   "metadata": {},
   "source": [
    "### Question 2\n",
    "---\n",
    "\n",
    "**Question:** _Write a program which can compute the factorial of a given numbers.The results should be printed in a comma-separated sequence on a single line. Suppose the following input is supplied to the program: 8, being the output: 40320_\n",
    "\n",
    "**Hints:** _In case of input data being supplied to the question, it should be assumed to be a console input._\n",
    "\n",
    "**Solution:**"
   ]
  },
  {
   "cell_type": "code",
   "execution_count": 6,
   "metadata": {
    "tags": []
   },
   "outputs": [
    {
     "output_type": "stream",
     "name": "stdout",
     "text": "40320\n"
    }
   ],
   "source": [
    "#using for loop\n",
    "def factorial(n):\n",
    "    fact = 1\n",
    "    for i in range(1,n+1):\n",
    "        fact = fact * i\n",
    "    print(fact)\n",
    "    \n",
    "x = int(input('Enter a number: '))\n",
    "factorial(x)"
   ]
  },
  {
   "cell_type": "code",
   "execution_count": 7,
   "metadata": {
    "tags": []
   },
   "outputs": [
    {
     "output_type": "stream",
     "name": "stdout",
     "text": "40320\n"
    }
   ],
   "source": [
    "#using while loop\n",
    "x = int(input('Enter a number: '))\n",
    "\n",
    "i = 1\n",
    "fact = 1\n",
    "while i < x+1:\n",
    "    fact = fact * i\n",
    "    i += 1\n",
    "print(fact)"
   ]
  },
  {
   "cell_type": "markdown",
   "metadata": {},
   "source": [
    "### Question 3\n",
    "---\n",
    "\n",
    "**Question:** _With a given integral number n, write a program to generate a dictionary that contains (i, i x i) such that is an integral number between 1 and n (both included). and then the program should print the dictionary._\n",
    "\n",
    "Suppose the following input is supplied to the program: 8. The output should be:\n",
    "\n",
    "```\n",
    "{1: 1, 2: 4, 3: 9, 4: 16, 5: 25, 6: 36, 7: 49, 8: 64}\n",
    "```\n",
    "\n",
    "**Hints:** _In case of input data being supplied to the question, it should be assumed to be a console input.Consider use dict()_\n",
    "\n",
    "**Solution:**"
   ]
  },
  {
   "cell_type": "code",
   "execution_count": 10,
   "metadata": {
    "tags": []
   },
   "outputs": [
    {
     "output_type": "stream",
     "name": "stdout",
     "text": "{1: 1, 2: 4, 3: 9, 4: 16, 5: 25, 6: 36, 7: 49, 8: 64}\n"
    }
   ],
   "source": [
    "#using arrays\n",
    "x = int(input('Enter a number: '))\n",
    "\n",
    "keys=[]\n",
    "val=[]\n",
    "for i in range(1,x+1):\n",
    "    keys.append(i)\n",
    "    val.append(i*i)\n",
    "print(dict(zip(keys, val)))"
   ]
  },
  {
   "cell_type": "code",
   "execution_count": 11,
   "metadata": {
    "tags": []
   },
   "outputs": [
    {
     "output_type": "stream",
     "name": "stdout",
     "text": "{1: 1, 2: 4, 3: 9, 4: 16, 5: 25, 6: 36, 7: 49, 8: 64}\n"
    }
   ],
   "source": [
    "#using dictionary\n",
    "x = int(input('Enter a number: '))\n",
    "dic = {}\n",
    "for i in range (1,x+1):\n",
    "    dic[i] = i * i\n",
    "print(dic)"
   ]
  },
  {
   "cell_type": "code",
   "execution_count": 12,
   "metadata": {
    "tags": []
   },
   "outputs": [
    {
     "output_type": "stream",
     "name": "stdout",
     "text": "{1: 1, 2: 4, 3: 9, 4: 16, 5: 25, 6: 36, 7: 49, 8: 64}\n"
    }
   ],
   "source": [
    "#using dictionary and list comp\n",
    "x = int(input('Enter a number: '))\n",
    "print({i: i*i for i in range (1,x+1)})"
   ]
  },
  {
   "cell_type": "markdown",
   "metadata": {},
   "source": [
    "### Question 4\n",
    "---\n",
    "\n",
    "**Question:** _Write a program which accepts a sequence of comma-separated numbers from console and generate a list and a tuple which contains every number. Suppose the following input is supplied to the program:_\n",
    "\n",
    "```\n",
    "34,67,55,33,12,98\n",
    "```\n",
    "\n",
    "_Then, the output should be:_\n",
    "\n",
    "```\n",
    "['34', '67', '55', '33', '12', '98']\n",
    "('34', '67', '55', '33', '12', '98')\n",
    "```\n",
    "\n",
    "**Hints:** _In case of input data being supplied to the question, it should be assumed to be a console input.tuple() method can convert list to tuple._\n",
    "\n",
    "**Solution:**"
   ]
  },
  {
   "cell_type": "code",
   "execution_count": 13,
   "metadata": {
    "tags": []
   },
   "outputs": [
    {
     "output_type": "stream",
     "name": "stdout",
     "text": "['34', '6', '7']\n('34', '6', '7')\n"
    }
   ],
   "source": [
    "x = input('Enter a sequence of comma-separated numbers: ')\n",
    "lista = x.split(',')\n",
    "tupla = tuple(lista)\n",
    "\n",
    "print(lista)\n",
    "print(tupla)"
   ]
  },
  {
   "cell_type": "markdown",
   "metadata": {},
   "source": [
    "### Question 5\n",
    "---\n",
    "\n",
    "**Question:** _Define a class which has at least two methods:_\n",
    "\n",
    "- _getString: to get a string from console input_\n",
    "- _printString: to print the string in upper case_\n",
    "\n",
    "_Also please include simple test function to test the class methods._\n",
    "\n",
    "**Hints:** _Use init method to construct some parameters._\n",
    "\n",
    "**Solution:**"
   ]
  },
  {
   "cell_type": "code",
   "execution_count": 15,
   "metadata": {},
   "outputs": [],
   "source": [
    "class String:\n",
    "    def getString(self):\n",
    "        self.string = input('Enter a string: ')\n",
    "    \n",
    "    def printString(self):\n",
    "        print(self.string.upper())"
   ]
  },
  {
   "cell_type": "code",
   "execution_count": 16,
   "metadata": {
    "tags": []
   },
   "outputs": [
    {
     "output_type": "stream",
     "name": "stdout",
     "text": "HOLA\n"
    }
   ],
   "source": [
    "p1 = String()\n",
    "p1.getString()\n",
    "p1.printString()"
   ]
  },
  {
   "cell_type": "markdown",
   "metadata": {},
   "source": [
    "### Question 6\n",
    "---\n",
    "\n",
    "**Question:** _Write a method which can calculate square value of number_\n",
    "\n",
    "**Hints:** _Use the ** operator_\n",
    "\n",
    "**Solution:**"
   ]
  },
  {
   "cell_type": "code",
   "execution_count": 1,
   "metadata": {
    "tags": []
   },
   "outputs": [
    {
     "output_type": "stream",
     "name": "stdout",
     "text": "9\n"
    }
   ],
   "source": [
    "#using function\n",
    "def square_value(n):\n",
    "    return n ** 2\n",
    "\n",
    "print(square_value(3))"
   ]
  },
  {
   "cell_type": "code",
   "execution_count": 2,
   "metadata": {
    "tags": []
   },
   "outputs": [
    {
     "output_type": "stream",
     "name": "stdout",
     "text": "9\n"
    }
   ],
   "source": [
    "#using lambda expression\n",
    "square_value_lambda =  lambda n: n ** 2\n",
    "print(square_value_lambda(3))"
   ]
  },
  {
   "cell_type": "code",
   "execution_count": null,
   "metadata": {},
   "outputs": [],
   "source": []
  }
 ]
}